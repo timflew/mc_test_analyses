{
 "cells": [
  {
   "cell_type": "markdown",
   "metadata": {},
   "source": [
    "# Using natural language processing to improve multiple choice question design"
   ]
  },
  {
   "cell_type": "markdown",
   "metadata": {},
   "source": [
    "How do students solve multiple choice questions? Even if a student knows the answer, a question can be difficult to read. The question might be long or use hard-to-read jargon, or the answers might be very similar, hindering the student’s ability to compare them. How can teachers design multiple choice questions that probe students’ knowledge, without unduly taxing students’ ability to solve complex word problems?\n",
    "\n",
    "In this document, I will use text-based analyses to determine what features of multiple choice questions are difficult for students on exams. There are three main components of my planned analysis. \n",
    "\n",
    "1) <a href='#lda_model'>**Latent Dirichlet Topic modeling**</a>: Identify different semantic question categories (e.g, “memory”, “language”, “perception”, etc.). <br>\n",
    "2) <a href='#nlp'>**Natural Language Processing (NLP) analyses**</a>: Quantify different text properties like length of questions, word frequency in English language, etc.\n",
    "\n",
    "In this notebook, I'll be using **(1)** and **(2)** to design features of questions that predict performance. \n",
    "\n",
    "3) **Mixed effects models in R**: Separately in R, I will compare these predictors and identify features diagnostic of question performance. Given a novel exam, the resulting fitted mixed effects model will allow instructors to identify what questions are worded in ways that will be difficult for students."
   ]
  },
  {
   "cell_type": "markdown",
   "metadata": {},
   "source": [
    "**6/24/2016**-Due to restrictions on making exams public, for the time being I am making this code public but not any data. I'm looking into getting permission to make exams public but for now I created a fake exam to demonstrate how this code works"
   ]
  },
  {
   "cell_type": "markdown",
   "metadata": {},
   "source": [
    "First let's load our packages"
   ]
  },
  {
   "cell_type": "code",
   "execution_count": 43,
   "metadata": {
    "collapsed": false
   },
   "outputs": [],
   "source": [
    "%matplotlib inline\n",
    "import os\n",
    "import re\n",
    "import pandas as pd\n",
    "import numpy as np\n",
    "import scipy as sp\n",
    "\n",
    "from nltk import FreqDist\n",
    "from nltk.stem.snowball import SnowballStemmer\n",
    "from nltk.corpus import stopwords\n",
    "import string\n",
    "sw=stopwords.words('english')\n",
    "valid_characters = string.ascii_letters + string.digits+string.whitespace\n",
    "\n",
    "import seaborn as sns\n",
    "sns.set_style(\"whitegrid\")\n",
    "\n",
    "from sklearn.feature_extraction.text import CountVectorizer,TfidfVectorizer\n",
    "from sklearn.decomposition import LatentDirichletAllocation"
   ]
  },
  {
   "cell_type": "markdown",
   "metadata": {},
   "source": [
    "Load corpus--Warning, this is kinda slow"
   ]
  },
  {
   "cell_type": "code",
   "execution_count": 2,
   "metadata": {
    "collapsed": true
   },
   "outputs": [],
   "source": [
    "from nltk.corpus import brown\n",
    "freq_distr=FreqDist([word.lower() for word in  brown.words()])"
   ]
  },
  {
   "cell_type": "markdown",
   "metadata": {},
   "source": [
    "<a id='dataload'></a>\n",
    "# 0) Load and process exams"
   ]
  },
  {
   "cell_type": "markdown",
   "metadata": {},
   "source": [
    "First let's load our exams. \"exams_data.csv\" contains information about where the exams are located and what classes they were for"
   ]
  },
  {
   "cell_type": "code",
   "execution_count": 3,
   "metadata": {
    "collapsed": true
   },
   "outputs": [],
   "source": [
    "exam_data=pd.read_csv('exams_data.csv')"
   ]
  },
  {
   "cell_type": "code",
   "execution_count": 4,
   "metadata": {
    "collapsed": false
   },
   "outputs": [
    {
     "data": {
      "text/html": [
       "<div>\n",
       "<table border=\"1\" class=\"dataframe\">\n",
       "  <thead>\n",
       "    <tr style=\"text-align: right;\">\n",
       "      <th></th>\n",
       "      <th>subject</th>\n",
       "      <th>class</th>\n",
       "      <th>exam</th>\n",
       "      <th>instructor</th>\n",
       "    </tr>\n",
       "  </thead>\n",
       "  <tbody>\n",
       "    <tr>\n",
       "      <th>0</th>\n",
       "      <td>cognitive psychology</td>\n",
       "      <td>example_class</td>\n",
       "      <td>example_exam</td>\n",
       "      <td>tflew</td>\n",
       "    </tr>\n",
       "  </tbody>\n",
       "</table>\n",
       "</div>"
      ],
      "text/plain": [
       "                subject          class          exam instructor\n",
       "0  cognitive psychology  example_class  example_exam      tflew"
      ]
     },
     "execution_count": 4,
     "metadata": {},
     "output_type": "execute_result"
    }
   ],
   "source": [
    "exam_data.head()"
   ]
  },
  {
   "cell_type": "markdown",
   "metadata": {},
   "source": [
    "So the first exam was from a fake cognitive psychology course taught by me. This directs the code to folders containing files for each exam. For example, the files for \"example_exam\" are located in tests/example_class/example_exam (tests/[class name]/[test name]).\n",
    "\n",
    "Each folder contains three files. The text of the test itself is in **final.txt**. The answer key is in **final_answers.txt** and the students' responses are in **final_responses.xls** (TAs in our department tend to save these as Excel files using the Remark system)"
   ]
  },
  {
   "cell_type": "code",
   "execution_count": 39,
   "metadata": {
    "collapsed": false
   },
   "outputs": [],
   "source": [
    "data_fold='tests'\n",
    "\n",
    "all_subject=exam_data.subject\n",
    "all_instructor=exam_data.instructor\n",
    "all_tests=[]\n",
    "all_anskey=[]\n",
    "all_resp=[]\n",
    "\n",
    "for ind,curr_test in enumerate(exam_data.iterrows()):\n",
    "    class_name=curr_test[1]['class']\n",
    "    exam_name = curr_test[1]['exam']\n",
    "    test_fold= os.path.join(data_fold,class_name,exam_name)\n",
    "\n",
    "    # load test\n",
    "    test_fname=os.path.join(test_fold,exam_name+'.txt')\n",
    "    with open(test_fname,'rb') as test_txt:\n",
    "        test=test_txt.readlines()\n",
    "        all_tests.append(test)\n",
    "    \n",
    "    # load answer key\n",
    "    anskey_fname=os.path.join(test_fold,exam_name+'_answers'+'.csv')\n",
    "    all_anskey.append(pd.read_csv(anskey_fname))\n",
    "    \n",
    "    # load student responses\n",
    "    xls_fname=os.path.join(test_fold,exam_name+'_responses'+'.xls')\n",
    "    resp=pd.read_excel(xls_fname)\n",
    "\n",
    "    # create unique random student ID. UCSD's psych grading system uses the last 4 digits of students' ID\n",
    "    resp.loc[:,'Last4_ID']=[str(ind)+'_'+str(i) for i in range(len(resp)) ] \n",
    "    all_resp.append(resp)\n"
   ]
  },
  {
   "cell_type": "markdown",
   "metadata": {},
   "source": [
    "## Text processing and test schema"
   ]
  },
  {
   "cell_type": "markdown",
   "metadata": {},
   "source": [
    "And now let's figure out what are the questions and answers.\n",
    "\n",
    "Currently, my code assumes each questions is a number followed by a period (\"1. \") and each answer is lowercase letter followed by a parentheses ( \"a) \"). Also, lines are split by **\\r, because I converted from MS Word**. If exams have a different format, you'll have to adjust the test_key and curr_test.split('\\r') sections.\n",
    "\n",
    "txt2schema() figures out the questions and answers and melts them into a dataframe"
   ]
  },
  {
   "cell_type": "code",
   "execution_count": 6,
   "metadata": {
    "collapsed": false
   },
   "outputs": [],
   "source": [
    "def txt2schema(curr_test):\n",
    "    curr_test=curr_test.split('\\r') \n",
    "    test_key={'question':'[\\d]+\\. [a-zA-Z]*','answer':'[abcde]\\)','question_num':'[\\d]+'}\n",
    "\n",
    "    all_q_num=[]\n",
    "    all_question=[]\n",
    "    all_answer=[]\n",
    "    for line in curr_test:\n",
    "        # check if question\n",
    "        q_search=re.findall(test_key['question'],line)\n",
    "        is_q=len(q_search)==1\n",
    "\n",
    "        # check if answer\n",
    "        a_search=re.findall(test_key['answer'],line)\n",
    "        is_a=len(a_search)==1\n",
    "\n",
    "        if is_q:\n",
    "            q_num=re.findall(test_key['question_num'],line)[0]\n",
    "            curr_question=line[3:]\n",
    "        elif is_a:\n",
    "            all_q_num.append(q_num)\n",
    "            all_question.append(curr_question)\n",
    "            all_answer.append(line[3:])\n",
    "    test_schema=pd.DataFrame({'q_num':all_q_num,'question':all_question,'answer':all_answer})\n",
    "    return test_schema"
   ]
  },
  {
   "cell_type": "markdown",
   "metadata": {},
   "source": [
    "And **process_text()** stems words in the questions and answers to help our NLP analyses later on. For example, if one answer uses the word \"neuroscience\" and another uses the word \"neural\", we would want to recognize those answers are similar"
   ]
  },
  {
   "cell_type": "code",
   "execution_count": 7,
   "metadata": {
    "collapsed": false
   },
   "outputs": [],
   "source": [
    "def process_text(txt):\n",
    "    # get rid of punctuation\n",
    "    txt=''.join([i for i in txt if i in valid_characters])\n",
    "    \n",
    "    # split into words\n",
    "    txt_split=txt.lower().decode('latin-1').split(' ')\n",
    "    \n",
    "    # remove stopwords\n",
    "    txt_split=[i for i in txt_split if (not (i in sw))]\n",
    "    \n",
    "    # create stemmer to stem words\n",
    "    stemmer=SnowballStemmer(\"english\")\n",
    "    proc_text = ' '.join([stemmer.stem(i) for i in txt_split])\n",
    "    return proc_text"
   ]
  },
  {
   "cell_type": "markdown",
   "metadata": {},
   "source": [
    "And now I'm going to save all of our results from each exam to a single dataframe. This dataframe will store all of our processed data as I move forward"
   ]
  },
  {
   "cell_type": "code",
   "execution_count": 8,
   "metadata": {
    "collapsed": false
   },
   "outputs": [],
   "source": [
    "all_schema=pd.DataFrame({})\n",
    "\n",
    "for ind,(curr_test,curr_subj,curr_instructor) in enumerate(zip(all_tests,all_subject,all_instructor)):\n",
    "    curr_test_text=curr_test[0]\n",
    "    curr_schema=txt2schema(curr_test_text)\n",
    "    curr_schema.loc[:,'proc_question']=curr_schema.loc[:,'question'].apply(process_text)  \n",
    "    curr_schema.loc[:,'proc_answer']=curr_schema.loc[:,'answer'].apply(process_text)  \n",
    "    curr_schema.loc[:,'exam']=str(ind) # give each exam a unique id\n",
    "    curr_schema.loc[:,'subject']=curr_subj\n",
    "    curr_schema.loc[:,'instructor']=curr_instructor\n",
    "    all_schema=all_schema.append(curr_schema)"
   ]
  },
  {
   "cell_type": "code",
   "execution_count": 9,
   "metadata": {
    "collapsed": false,
    "scrolled": true
   },
   "outputs": [
    {
     "data": {
      "text/html": [
       "<div>\n",
       "<table border=\"1\" class=\"dataframe\">\n",
       "  <thead>\n",
       "    <tr style=\"text-align: right;\">\n",
       "      <th></th>\n",
       "      <th>answer</th>\n",
       "      <th>q_num</th>\n",
       "      <th>question</th>\n",
       "      <th>proc_question</th>\n",
       "      <th>proc_answer</th>\n",
       "      <th>exam</th>\n",
       "      <th>subject</th>\n",
       "      <th>instructor</th>\n",
       "    </tr>\n",
       "  </thead>\n",
       "  <tbody>\n",
       "    <tr>\n",
       "      <th>0</th>\n",
       "      <td>Working memory capacity is limited</td>\n",
       "      <td>1</td>\n",
       "      <td>Change detection demonstrates</td>\n",
       "      <td>chang detect demonstr</td>\n",
       "      <td>work memori capac limit</td>\n",
       "      <td>0</td>\n",
       "      <td>cognitive psychology</td>\n",
       "      <td>tflew</td>\n",
       "    </tr>\n",
       "    <tr>\n",
       "      <th>1</th>\n",
       "      <td>Long term memory capacity is limited</td>\n",
       "      <td>1</td>\n",
       "      <td>Change detection demonstrates</td>\n",
       "      <td>chang detect demonstr</td>\n",
       "      <td>long term memori capac limit</td>\n",
       "      <td>0</td>\n",
       "      <td>cognitive psychology</td>\n",
       "      <td>tflew</td>\n",
       "    </tr>\n",
       "    <tr>\n",
       "      <th>2</th>\n",
       "      <td>People are lazy</td>\n",
       "      <td>1</td>\n",
       "      <td>Change detection demonstrates</td>\n",
       "      <td>chang detect demonstr</td>\n",
       "      <td>peopl lazi</td>\n",
       "      <td>0</td>\n",
       "      <td>cognitive psychology</td>\n",
       "      <td>tflew</td>\n",
       "    </tr>\n",
       "    <tr>\n",
       "      <th>3</th>\n",
       "      <td>Remembering scenes is easy</td>\n",
       "      <td>1</td>\n",
       "      <td>Change detection demonstrates</td>\n",
       "      <td>chang detect demonstr</td>\n",
       "      <td>rememb scene easi</td>\n",
       "      <td>0</td>\n",
       "      <td>cognitive psychology</td>\n",
       "      <td>tflew</td>\n",
       "    </tr>\n",
       "    <tr>\n",
       "      <th>4</th>\n",
       "      <td>Sensation is our representation of raw stimuli...</td>\n",
       "      <td>2</td>\n",
       "      <td>The difference between sensation and perceptio...</td>\n",
       "      <td>differ sensat percept</td>\n",
       "      <td>sensat represent raw stimuli percept process r...</td>\n",
       "      <td>0</td>\n",
       "      <td>cognitive psychology</td>\n",
       "      <td>tflew</td>\n",
       "    </tr>\n",
       "  </tbody>\n",
       "</table>\n",
       "</div>"
      ],
      "text/plain": [
       "                                              answer q_num  \\\n",
       "0                 Working memory capacity is limited     1   \n",
       "1               Long term memory capacity is limited     1   \n",
       "2                                    People are lazy     1   \n",
       "3                         Remembering scenes is easy     1   \n",
       "4  Sensation is our representation of raw stimuli...     2   \n",
       "\n",
       "                                            question          proc_question  \\\n",
       "0                      Change detection demonstrates  chang detect demonstr   \n",
       "1                      Change detection demonstrates  chang detect demonstr   \n",
       "2                      Change detection demonstrates  chang detect demonstr   \n",
       "3                      Change detection demonstrates  chang detect demonstr   \n",
       "4  The difference between sensation and perceptio...  differ sensat percept   \n",
       "\n",
       "                                         proc_answer exam  \\\n",
       "0                            work memori capac limit    0   \n",
       "1                       long term memori capac limit    0   \n",
       "2                                         peopl lazi    0   \n",
       "3                                  rememb scene easi    0   \n",
       "4  sensat represent raw stimuli percept process r...    0   \n",
       "\n",
       "                subject instructor  \n",
       "0  cognitive psychology      tflew  \n",
       "1  cognitive psychology      tflew  \n",
       "2  cognitive psychology      tflew  \n",
       "3  cognitive psychology      tflew  \n",
       "4  cognitive psychology      tflew  "
      ]
     },
     "execution_count": 9,
     "metadata": {},
     "output_type": "execute_result"
    }
   ],
   "source": [
    "all_schema.head()"
   ]
  },
  {
   "cell_type": "markdown",
   "metadata": {},
   "source": [
    "## Map questions to responses "
   ]
  },
  {
   "cell_type": "markdown",
   "metadata": {},
   "source": [
    "Now let's combine our answer key with the student responses so we can figure out students' performance on each question"
   ]
  },
  {
   "cell_type": "code",
   "execution_count": 16,
   "metadata": {
    "collapsed": false
   },
   "outputs": [],
   "source": [
    "def remove_q(txt):\n",
    "    return txt[1:]\n",
    "\n",
    "def lower_txt(txt):\n",
    "    try:\n",
    "        return txt.lower()\n",
    "    except:\n",
    "        return txt\n",
    "\n",
    "all_resp_ans=pd.DataFrame({})\n",
    "for ind,(curr_resp,curr_ans) in enumerate(zip(all_resp,all_anskey)):\n",
    "    # Get responses\n",
    "    curr_exam=all_schema.loc[all_schema.exam==str(ind),:]\n",
    "    num_q=max([int(i) for i in np.unique(curr_exam.q_num)])\n",
    "    curr_resp=all_resp[ind].iloc[:,1:(1+num_q+1)]\n",
    "    curr_id=all_resp[ind].iloc[:,-1]\n",
    "    curr_resp.loc[:,'Last4_ID']=curr_id\n",
    "    curr_resp_melt=pd.melt(curr_resp, id_vars=['Last4_ID'])\n",
    "\n",
    "    curr_resp_melt.loc[:,'variable']=curr_resp_melt.loc[:,'variable'].apply(remove_q)\n",
    "    curr_resp_melt.loc[:,'value']=curr_resp_melt.loc[:,'value'].apply(lower_txt)\n",
    "    curr_resp_melt.loc[:,'exam']=str(ind)\n",
    "    curr_resp_melt.columns=['Last4_ID','q_num','response','exam']    \n",
    "    \n",
    "    # Get answers\n",
    "    curr_answer=curr_ans.loc[:,['q_num','answer']]\n",
    "    curr_answer.loc[:,'q_num']=curr_answer.loc[:,'q_num'].apply(str)\n",
    "    \n",
    "    # Merge the responses and answers\n",
    "    curr_resp=pd.merge(curr_resp_melt,curr_answer,on='q_num')\n",
    "    curr_resp.loc[:,'correct']=curr_resp.loc[:,'response']==curr_resp.loc[:,'answer']\n",
    "\n",
    "    all_resp_ans=all_resp_ans.append(curr_resp)"
   ]
  },
  {
   "cell_type": "code",
   "execution_count": 17,
   "metadata": {
    "collapsed": false
   },
   "outputs": [
    {
     "data": {
      "text/html": [
       "<div>\n",
       "<table border=\"1\" class=\"dataframe\">\n",
       "  <thead>\n",
       "    <tr style=\"text-align: right;\">\n",
       "      <th></th>\n",
       "      <th>Last4_ID</th>\n",
       "      <th>q_num</th>\n",
       "      <th>response</th>\n",
       "      <th>exam</th>\n",
       "      <th>answer</th>\n",
       "      <th>correct</th>\n",
       "    </tr>\n",
       "  </thead>\n",
       "  <tbody>\n",
       "    <tr>\n",
       "      <th>0</th>\n",
       "      <td>0_0</td>\n",
       "      <td>1</td>\n",
       "      <td>b</td>\n",
       "      <td>0</td>\n",
       "      <td>a</td>\n",
       "      <td>False</td>\n",
       "    </tr>\n",
       "    <tr>\n",
       "      <th>1</th>\n",
       "      <td>0_1</td>\n",
       "      <td>1</td>\n",
       "      <td>a</td>\n",
       "      <td>0</td>\n",
       "      <td>a</td>\n",
       "      <td>True</td>\n",
       "    </tr>\n",
       "    <tr>\n",
       "      <th>2</th>\n",
       "      <td>0_2</td>\n",
       "      <td>1</td>\n",
       "      <td>a</td>\n",
       "      <td>0</td>\n",
       "      <td>a</td>\n",
       "      <td>True</td>\n",
       "    </tr>\n",
       "    <tr>\n",
       "      <th>3</th>\n",
       "      <td>0_3</td>\n",
       "      <td>1</td>\n",
       "      <td>b</td>\n",
       "      <td>0</td>\n",
       "      <td>a</td>\n",
       "      <td>False</td>\n",
       "    </tr>\n",
       "    <tr>\n",
       "      <th>4</th>\n",
       "      <td>0_4</td>\n",
       "      <td>1</td>\n",
       "      <td>a</td>\n",
       "      <td>0</td>\n",
       "      <td>a</td>\n",
       "      <td>True</td>\n",
       "    </tr>\n",
       "  </tbody>\n",
       "</table>\n",
       "</div>"
      ],
      "text/plain": [
       "  Last4_ID q_num response exam answer correct\n",
       "0      0_0     1        b    0      a   False\n",
       "1      0_1     1        a    0      a    True\n",
       "2      0_2     1        a    0      a    True\n",
       "3      0_3     1        b    0      a   False\n",
       "4      0_4     1        a    0      a    True"
      ]
     },
     "execution_count": 17,
     "metadata": {},
     "output_type": "execute_result"
    }
   ],
   "source": [
    "all_resp_ans.head()"
   ]
  },
  {
   "cell_type": "markdown",
   "metadata": {},
   "source": [
    "<a id='lda_model'></a>\n",
    "# 1) Topic modeling"
   ]
  },
  {
   "cell_type": "markdown",
   "metadata": {},
   "source": [
    "And now let's try to figure out the topics of the questions using Latent Dirichlet allocation modeling."
   ]
  },
  {
   "cell_type": "markdown",
   "metadata": {},
   "source": [
    "This is a function takes a fitted LDA and returns a dataframe with the top n features from each topic"
   ]
  },
  {
   "cell_type": "code",
   "execution_count": 40,
   "metadata": {
    "collapsed": false
   },
   "outputs": [],
   "source": [
    "def get_top_features(lda_model,tf_feature_names,n,verbose=False):\n",
    "    features_weights=lda_model.components_\n",
    "    top_features={}\n",
    "    for w_i,weights in enumerate(features_weights):\n",
    "        \n",
    "        best_features=[]\n",
    "        ranks=len(weights)-sp.stats.rankdata(weights)\n",
    "        for best in range(n):\n",
    "            feature=tf_feature_names[np.where(ranks==best)[0][0]]\n",
    "            best_features.append(feature)\n",
    "        if verbose:\n",
    "            print 'Component '+str(w_i)\n",
    "            print ' ,'.join(best_features)\n",
    "        top_features['Component '+str(w_i)]=best_features\n",
    "    top_features_df=pd.DataFrame(top_features).transpose()\n",
    "    top_features_df.loc[:,'topic']=range(len(features_weights))\n",
    "    return top_features_df\n",
    "\n",
    "#top_features=get_top_features(lda_model,tf_feature_names,10)   "
   ]
  },
  {
   "cell_type": "markdown",
   "metadata": {},
   "source": [
    "And two helper functions. concat_txt() combines the question and all the answers into a singles string that the LDA can infer the topic from."
   ]
  },
  {
   "cell_type": "code",
   "execution_count": 41,
   "metadata": {
    "collapsed": true
   },
   "outputs": [],
   "source": [
    "def concat_txt(txt):\n",
    "    return ' '.join(txt)"
   ]
  },
  {
   "cell_type": "markdown",
   "metadata": {},
   "source": [
    "This for-loop does the heavy lifting. It iterates over each subject and runs the topic model on the items aggregated from all the exams from that subject."
   ]
  },
  {
   "cell_type": "code",
   "execution_count": 48,
   "metadata": {
    "collapsed": false
   },
   "outputs": [
    {
     "name": "stdout",
     "output_type": "stream",
     "text": [
      "Fitting cognitive psychology\n",
      "Component 0\n",
      "peopl ,dress ,color ,differ ,limit ,memori ,capac ,make ,decis ,avers\n",
      "Component 1\n",
      "languag ,sensat ,percept ,process ,represent ,object ,prime ,domin ,visual ,item\n",
      "Component 2\n",
      "bias ,reli ,heurist ,decis ,make ,quick ,primarili ,depth ,learn ,right\n",
      "Component 3\n",
      "area ,damag ,inabl ,reflect ,broca ,wernick ,fusiform ,produc ,sentenc ,face\n"
     ]
    }
   ],
   "source": [
    "unique_subjects=np.unique(all_subject)\n",
    "\n",
    "# get all exams from current subject\n",
    "all_labeled=pd.DataFrame({})\n",
    "all_topic=pd.DataFrame({})\n",
    "for subject in unique_subjects:\n",
    "    print 'Fitting '+subject\n",
    "    \n",
    "    # Iterate over all exams for this subject\n",
    "    subject_schema=all_schema.loc[all_schema.subject==subject,:]\n",
    "    ind_ans=subject_schema.loc[:,['exam', 'q_num','proc_answer']].groupby(['exam', 'q_num']).aggregate({'proc_answer':concat_txt}).reset_index()\n",
    "    ind_qs=subject_schema.loc[:,['exam','q_num', 'proc_question']].drop_duplicates().reset_index()\n",
    "    ind_item=pd.merge(ind_qs,ind_ans,on=['exam','q_num'])\n",
    "    ind_item.loc[:,'item']=ind_item.proc_question+' '+ind_item.proc_answer\n",
    "            \n",
    "#     # Fit count vectorizer-Finds frequent words and \n",
    "#     n_features=25\n",
    "#     tf_vectorizer = CountVectorizer(min_df=2, max_features=n_features,stop_words='english')\n",
    "\n",
    "    # Use Tf-Idf frequency. Words that are frequent (tf) but not in a lot of documents (idf)\n",
    "    tf_vectorizer=TfidfVectorizer(stop_words='english')\n",
    "    \n",
    "    tf = tf_vectorizer.fit_transform(ind_item.item)\n",
    "    \n",
    "    # Fit LDA on all test\n",
    "    lda_model=LatentDirichletAllocation(n_topics=4)\n",
    "    lda_model.fit(tf);\n",
    "    tf_feature_names = tf_vectorizer.get_feature_names()\n",
    "    top_features=get_top_features(lda_model,tf_feature_names,10,verbose=True)  \n",
    "    top_features.loc[:,'subject']=subject\n",
    "    top_features.loc[:,'subject_topic']=[subject+'_'+str(t) for t in range(len(top_features))]    \n",
    "    top_features.reset_index(inplace=True)\n",
    "    all_topic=all_topic.append(top_features)\n",
    "    \n",
    "    # And predict topic\n",
    "    ind_item.loc[:,'topic']=[subject+'_'+str(np.argmax(items))  for items in lda_model.transform(tf)]\n",
    "    all_labeled=all_labeled.append(ind_item)"
   ]
  },
  {
   "cell_type": "markdown",
   "metadata": {},
   "source": [
    "all_topic is a dataframe containing our topics and the diagnostic words"
   ]
  },
  {
   "cell_type": "code",
   "execution_count": 49,
   "metadata": {
    "collapsed": false
   },
   "outputs": [
    {
     "data": {
      "text/html": [
       "<div>\n",
       "<table border=\"1\" class=\"dataframe\">\n",
       "  <thead>\n",
       "    <tr style=\"text-align: right;\">\n",
       "      <th></th>\n",
       "      <th>index</th>\n",
       "      <th>0</th>\n",
       "      <th>1</th>\n",
       "      <th>2</th>\n",
       "      <th>3</th>\n",
       "      <th>4</th>\n",
       "      <th>5</th>\n",
       "      <th>6</th>\n",
       "      <th>7</th>\n",
       "      <th>8</th>\n",
       "      <th>9</th>\n",
       "      <th>topic</th>\n",
       "      <th>subject</th>\n",
       "      <th>subject_topic</th>\n",
       "    </tr>\n",
       "  </thead>\n",
       "  <tbody>\n",
       "    <tr>\n",
       "      <th>0</th>\n",
       "      <td>Component 0</td>\n",
       "      <td>peopl</td>\n",
       "      <td>dress</td>\n",
       "      <td>color</td>\n",
       "      <td>differ</td>\n",
       "      <td>limit</td>\n",
       "      <td>memori</td>\n",
       "      <td>capac</td>\n",
       "      <td>make</td>\n",
       "      <td>decis</td>\n",
       "      <td>avers</td>\n",
       "      <td>0</td>\n",
       "      <td>cognitive psychology</td>\n",
       "      <td>cognitive psychology_0</td>\n",
       "    </tr>\n",
       "    <tr>\n",
       "      <th>1</th>\n",
       "      <td>Component 1</td>\n",
       "      <td>languag</td>\n",
       "      <td>sensat</td>\n",
       "      <td>percept</td>\n",
       "      <td>process</td>\n",
       "      <td>represent</td>\n",
       "      <td>object</td>\n",
       "      <td>prime</td>\n",
       "      <td>domin</td>\n",
       "      <td>visual</td>\n",
       "      <td>item</td>\n",
       "      <td>1</td>\n",
       "      <td>cognitive psychology</td>\n",
       "      <td>cognitive psychology_1</td>\n",
       "    </tr>\n",
       "    <tr>\n",
       "      <th>2</th>\n",
       "      <td>Component 2</td>\n",
       "      <td>bias</td>\n",
       "      <td>reli</td>\n",
       "      <td>heurist</td>\n",
       "      <td>decis</td>\n",
       "      <td>make</td>\n",
       "      <td>quick</td>\n",
       "      <td>primarili</td>\n",
       "      <td>depth</td>\n",
       "      <td>learn</td>\n",
       "      <td>right</td>\n",
       "      <td>2</td>\n",
       "      <td>cognitive psychology</td>\n",
       "      <td>cognitive psychology_2</td>\n",
       "    </tr>\n",
       "    <tr>\n",
       "      <th>3</th>\n",
       "      <td>Component 3</td>\n",
       "      <td>area</td>\n",
       "      <td>damag</td>\n",
       "      <td>inabl</td>\n",
       "      <td>reflect</td>\n",
       "      <td>broca</td>\n",
       "      <td>wernick</td>\n",
       "      <td>fusiform</td>\n",
       "      <td>produc</td>\n",
       "      <td>sentenc</td>\n",
       "      <td>face</td>\n",
       "      <td>3</td>\n",
       "      <td>cognitive psychology</td>\n",
       "      <td>cognitive psychology_3</td>\n",
       "    </tr>\n",
       "  </tbody>\n",
       "</table>\n",
       "</div>"
      ],
      "text/plain": [
       "         index        0       1        2        3          4        5  \\\n",
       "0  Component 0    peopl   dress    color   differ      limit   memori   \n",
       "1  Component 1  languag  sensat  percept  process  represent   object   \n",
       "2  Component 2     bias    reli  heurist    decis       make    quick   \n",
       "3  Component 3     area   damag    inabl  reflect      broca  wernick   \n",
       "\n",
       "           6       7        8      9  topic               subject  \\\n",
       "0      capac    make    decis  avers      0  cognitive psychology   \n",
       "1      prime   domin   visual   item      1  cognitive psychology   \n",
       "2  primarili   depth    learn  right      2  cognitive psychology   \n",
       "3   fusiform  produc  sentenc   face      3  cognitive psychology   \n",
       "\n",
       "            subject_topic  \n",
       "0  cognitive psychology_0  \n",
       "1  cognitive psychology_1  \n",
       "2  cognitive psychology_2  \n",
       "3  cognitive psychology_3  "
      ]
     },
     "execution_count": 49,
     "metadata": {},
     "output_type": "execute_result"
    }
   ],
   "source": [
    "all_topic.head()"
   ]
  },
  {
   "cell_type": "markdown",
   "metadata": {},
   "source": [
    "When interpretting the results of the LDA, note that the model interprets each question as arising from a mixture of possible of topic. Here I've just chosen to assign each item to its most likely topic (there might be some fun analyses to do looking at the difficulty of cross-topic questions). Each topic in turn is composed of common words with different weights. In all_topic, I've arranged the top ten words from most (0) to least (9) important. "
   ]
  },
  {
   "cell_type": "markdown",
   "metadata": {},
   "source": [
    "And we can add the topic labels to our main all_schema dataframe"
   ]
  },
  {
   "cell_type": "code",
   "execution_count": 50,
   "metadata": {
    "collapsed": false
   },
   "outputs": [],
   "source": [
    "all_schema=pd.merge(all_schema,all_labeled.loc[:,['q_num','exam','topic']],on=['q_num','exam'])"
   ]
  },
  {
   "cell_type": "markdown",
   "metadata": {},
   "source": [
    "And let's get an idea of how frequently questions in each topic occur"
   ]
  },
  {
   "cell_type": "code",
   "execution_count": 51,
   "metadata": {
    "collapsed": false
   },
   "outputs": [
    {
     "data": {
      "text/plain": [
       "topic\n",
       "cognitive psychology_0    3\n",
       "cognitive psychology_1    3\n",
       "cognitive psychology_2    1\n",
       "cognitive psychology_3    1\n",
       "dtype: int64"
      ]
     },
     "execution_count": 51,
     "metadata": {},
     "output_type": "execute_result"
    }
   ],
   "source": [
    "all_schema.loc[:,['topic','q_num','exam']].drop_duplicates().groupby('topic').size()"
   ]
  },
  {
   "cell_type": "markdown",
   "metadata": {},
   "source": [
    "## Analysis: Did difficulty vary by topic?"
   ]
  },
  {
   "cell_type": "markdown",
   "metadata": {},
   "source": [
    "And let's see if we've done anything of significance--did students have more difficulty with certain topics?"
   ]
  },
  {
   "cell_type": "code",
   "execution_count": 18,
   "metadata": {
    "collapsed": false
   },
   "outputs": [],
   "source": [
    "resp_topic=pd.merge(all_resp_ans,all_schema.loc[:,['exam','q_num','topic']],on=['q_num','exam'])\n",
    "topic_performance=resp_topic.loc[:,['topic','correct']].groupby('topic').mean().reset_index()"
   ]
  },
  {
   "cell_type": "code",
   "execution_count": 19,
   "metadata": {
    "collapsed": false
   },
   "outputs": [
    {
     "data": {
      "text/html": [
       "<div>\n",
       "<table border=\"1\" class=\"dataframe\">\n",
       "  <thead>\n",
       "    <tr style=\"text-align: right;\">\n",
       "      <th></th>\n",
       "      <th>index</th>\n",
       "      <th>0</th>\n",
       "      <th>1</th>\n",
       "      <th>2</th>\n",
       "      <th>3</th>\n",
       "      <th>4</th>\n",
       "      <th>5</th>\n",
       "      <th>6</th>\n",
       "      <th>7</th>\n",
       "      <th>8</th>\n",
       "      <th>9</th>\n",
       "      <th>topic_y</th>\n",
       "      <th>correct</th>\n",
       "    </tr>\n",
       "  </thead>\n",
       "  <tbody>\n",
       "    <tr>\n",
       "      <th>0</th>\n",
       "      <td>Component 0</td>\n",
       "      <td>differ</td>\n",
       "      <td>peopl</td>\n",
       "      <td>reflect</td>\n",
       "      <td>languag</td>\n",
       "      <td>demonstr</td>\n",
       "      <td>process</td>\n",
       "      <td>rememb</td>\n",
       "      <td>decis</td>\n",
       "      <td>make</td>\n",
       "      <td>memori</td>\n",
       "      <td>cognitive psychology_0</td>\n",
       "      <td>0.078431</td>\n",
       "    </tr>\n",
       "    <tr>\n",
       "      <th>1</th>\n",
       "      <td>Component 2</td>\n",
       "      <td>languag</td>\n",
       "      <td>memori</td>\n",
       "      <td>demonstr</td>\n",
       "      <td>process</td>\n",
       "      <td>rememb</td>\n",
       "      <td>reflect</td>\n",
       "      <td>peopl</td>\n",
       "      <td>differ</td>\n",
       "      <td>make</td>\n",
       "      <td>decis</td>\n",
       "      <td>cognitive psychology_2</td>\n",
       "      <td>0.045752</td>\n",
       "    </tr>\n",
       "    <tr>\n",
       "      <th>2</th>\n",
       "      <td>Component 3</td>\n",
       "      <td>peopl</td>\n",
       "      <td>make</td>\n",
       "      <td>decis</td>\n",
       "      <td>process</td>\n",
       "      <td>differ</td>\n",
       "      <td>rememb</td>\n",
       "      <td>demonstr</td>\n",
       "      <td>reflect</td>\n",
       "      <td>languag</td>\n",
       "      <td>memori</td>\n",
       "      <td>cognitive psychology_3</td>\n",
       "      <td>0.026144</td>\n",
       "    </tr>\n",
       "  </tbody>\n",
       "</table>\n",
       "</div>"
      ],
      "text/plain": [
       "         index        0       1         2        3         4        5  \\\n",
       "0  Component 0   differ   peopl   reflect  languag  demonstr  process   \n",
       "1  Component 2  languag  memori  demonstr  process    rememb  reflect   \n",
       "2  Component 3    peopl    make     decis  process    differ   rememb   \n",
       "\n",
       "          6        7        8       9                 topic_y   correct  \n",
       "0    rememb    decis     make  memori  cognitive psychology_0  0.078431  \n",
       "1     peopl   differ     make   decis  cognitive psychology_2  0.045752  \n",
       "2  demonstr  reflect  languag  memori  cognitive psychology_3  0.026144  "
      ]
     },
     "execution_count": 19,
     "metadata": {},
     "output_type": "execute_result"
    }
   ],
   "source": [
    "topic_results=pd.merge(top_features,topic_performance,left_on='subject_topic', right_on='topic').sort_values('correct',ascending=False)\n",
    "topic_results.drop(['topic_x','subject', 'subject_topic'],axis=1,inplace=True)\n",
    "topic_results"
   ]
  },
  {
   "cell_type": "markdown",
   "metadata": {},
   "source": [
    "<a id='nlp'></a>\n",
    "# 2) NLP analyses"
   ]
  },
  {
   "cell_type": "markdown",
   "metadata": {},
   "source": [
    "Since we have our data processed and tagged, let's start creating some more complex features from our text. Coming up we've got:\n",
    "\n",
    "a) <a href='#s_a'>Question length</a>  <br />\n",
    "b) <a href='#s_b'>Answer length</a>  <br />\n",
    "c) <a href='#s_c'>English word frequency</a>  <br />\n",
    "d) <a href='#s_d'><a href='#s_a'>All/None of the above questions</a>  <br />\n",
    "e) <a href='#s_e'>Similarity of answers to each other</a>  <br />\n",
    "f) <a href='#s_f'>Similarity of the answers to the question</a>  <br />"
   ]
  },
  {
   "cell_type": "markdown",
   "metadata": {},
   "source": [
    "<a id='s_a'></a>\n",
    "## a) Question length"
   ]
  },
  {
   "cell_type": "markdown",
   "metadata": {},
   "source": [
    "Did the length of questions affect their difficulty?"
   ]
  },
  {
   "cell_type": "code",
   "execution_count": 20,
   "metadata": {
    "collapsed": false
   },
   "outputs": [
    {
     "data": {
      "text/plain": [
       "<matplotlib.axes._subplots.AxesSubplot at 0x118d66b50>"
      ]
     },
     "execution_count": 20,
     "metadata": {},
     "output_type": "execute_result"
    },
    {
     "data": {
      "image/png": "[encoded data removed]",
      "text/plain": [
       "<matplotlib.figure.Figure at 0x117a6fa50>"
      ]
     },
     "metadata": {},
     "output_type": "display_data"
    }
   ],
   "source": [
    "all_schema.loc[:,'q_len']=all_schema.loc[:,'question'].apply(len)\n",
    "all_schema.loc[:,'q_len'].hist()"
   ]
  },
  {
   "cell_type": "markdown",
   "metadata": {},
   "source": [
    "<a id='s_b'></a>\n",
    "## b) Answer length"
   ]
  },
  {
   "cell_type": "markdown",
   "metadata": {},
   "source": [
    "Did the length of answers affect students' performance?"
   ]
  },
  {
   "cell_type": "code",
   "execution_count": 21,
   "metadata": {
    "collapsed": false
   },
   "outputs": [
    {
     "data": {
      "text/plain": [
       "<matplotlib.axes._subplots.AxesSubplot at 0x119a9e510>"
      ]
     },
     "execution_count": 21,
     "metadata": {},
     "output_type": "execute_result"
    },
    {
     "data": {
      "image/png": "[encoded data removed]",
      "text/plain": [
       "<matplotlib.figure.Figure at 0x119c19810>"
      ]
     },
     "metadata": {},
     "output_type": "display_data"
    }
   ],
   "source": [
    "all_schema.loc[:,'ans_len']=all_schema.loc[:,'answer'].apply(len)\n",
    "ans_len=all_schema.loc[:,['exam', 'q_num','ans_len']].groupby(['exam', 'q_num']).mean().reset_index() # average answer length\n",
    "all_schema=all_schema.drop('ans_len',axis=1)\n",
    "all_schema=pd.merge(all_schema,ans_len,on=['exam', 'q_num'])\n",
    "all_schema.loc[:,'ans_len'].hist()"
   ]
  },
  {
   "cell_type": "markdown",
   "metadata": {},
   "source": [
    "<a id='s_c'></a>\n",
    "## c) English word frequency"
   ]
  },
  {
   "cell_type": "markdown",
   "metadata": {},
   "source": [
    "Did infrequency and/or jargony words hurt students?"
   ]
  },
  {
   "cell_type": "code",
   "execution_count": 22,
   "metadata": {
    "collapsed": false
   },
   "outputs": [],
   "source": [
    "def get_word_freq(txt):\n",
    "    txt=[t.lower() for t in txt.split(' ') if not (t in sw) ]\n",
    "    freq=[freq_distr[t]+1 for t in txt]\n",
    "    return np.mean(np.log10(freq))"
   ]
  },
  {
   "cell_type": "code",
   "execution_count": 23,
   "metadata": {
    "collapsed": false
   },
   "outputs": [
    {
     "data": {
      "text/plain": [
       "1.7232199139484699"
      ]
     },
     "execution_count": 23,
     "metadata": {},
     "output_type": "execute_result"
    }
   ],
   "source": [
    "get_word_freq('How now brown cow?')"
   ]
  },
  {
   "cell_type": "code",
   "execution_count": 24,
   "metadata": {
    "collapsed": false
   },
   "outputs": [
    {
     "data": {
      "text/plain": [
       "<matplotlib.axes._subplots.AxesSubplot at 0x119a9e650>"
      ]
     },
     "execution_count": 24,
     "metadata": {},
     "output_type": "execute_result"
    },
    {
     "data": {
      "image/png": "[encoded data removed]",
      "text/plain": [
       "<matplotlib.figure.Figure at 0x11966fe50>"
      ]
     },
     "metadata": {},
     "output_type": "display_data"
    }
   ],
   "source": [
    "item_combined=all_schema.loc[:,['exam', 'q_num','answer']].groupby(['exam', 'q_num']).aggregate(concat_txt).reset_index()\n",
    "temp=pd.merge(item_combined,all_schema.loc[:,['exam', 'q_num','question']],on=['exam', 'q_num'],how='left')\n",
    "temp.loc[:,'all_words']=temp.loc[:,'question'] +' '+temp.loc[:,'answer']\n",
    "\n",
    "concat_answer=temp # need later\n",
    "\n",
    "temp.loc[:,'log_freq']=temp.loc[:,'all_words'].apply(get_word_freq)\n",
    "#curr_schema_topic=pd.merge(curr_schema_topic,ind_item.loc[:,['q_num','log_freq']],on='q_num')\n",
    "temp.drop_duplicates(inplace=True)\n",
    "all_schema=pd.merge(all_schema,temp.loc[:,['exam', 'q_num','log_freq']],on=['exam', 'q_num'])\n",
    "\n",
    "all_schema.loc[:,'log_freq'].hist()"
   ]
  },
  {
   "cell_type": "markdown",
   "metadata": {},
   "source": [
    "<a id='s_d'></a>\n",
    "# d) All/None of the above"
   ]
  },
  {
   "cell_type": "markdown",
   "metadata": {},
   "source": [
    "All and none of the above questions may require some difficult logical processing from students"
   ]
  },
  {
   "cell_type": "code",
   "execution_count": 25,
   "metadata": {
    "collapsed": false
   },
   "outputs": [],
   "source": [
    "def contains_above(txt):\n",
    "    txt=' '.join([i.lower() for i in txt])\n",
    "    if 'all of the above' in txt or 'none of the above' in txt:\n",
    "        return True\n",
    "    else:\n",
    "        return False"
   ]
  },
  {
   "cell_type": "code",
   "execution_count": 26,
   "metadata": {
    "collapsed": false
   },
   "outputs": [],
   "source": [
    "the_above=all_schema.loc[:,['exam','q_num','answer']].groupby(['exam','q_num']).aggregate(contains_above).reset_index()\n",
    "the_above.columns=['exam','q_num','the_above']\n",
    "all_schema=pd.merge(all_schema,the_above,on=['exam', 'q_num'])"
   ]
  },
  {
   "cell_type": "code",
   "execution_count": 27,
   "metadata": {
    "collapsed": false
   },
   "outputs": [
    {
     "data": {
      "text/plain": [
       "0.25"
      ]
     },
     "execution_count": 27,
     "metadata": {},
     "output_type": "execute_result"
    }
   ],
   "source": [
    "all_schema.the_above.mean()"
   ]
  },
  {
   "cell_type": "markdown",
   "metadata": {},
   "source": [
    "<a id='s_e'></a>\n",
    "## e) Answer-Answer Similarity"
   ]
  },
  {
   "cell_type": "markdown",
   "metadata": {},
   "source": [
    "Similar answers could have helped students by reducing the scope of possibilities they had to consider or acting as reminders or they could have hurt students by presenting virtually indistinguishable options."
   ]
  },
  {
   "cell_type": "markdown",
   "metadata": {},
   "source": [
    "The compare_text() function calculates, between two units of text, what proportion of words were shared (normalize by shorter text)?"
   ]
  },
  {
   "cell_type": "code",
   "execution_count": 28,
   "metadata": {
    "collapsed": true
   },
   "outputs": [],
   "source": [
    "def compare_text(txt1,txt2):\n",
    "    txt1_words=[w.lower() for w in str(txt1).split(' ')]\n",
    "    txt2_words=[w.lower() for w in str(txt2).split(' ')]    \n",
    "    min_len=min([len(txt1_words),len(txt2_words)])\n",
    "    if len(txt1_words)<len(txt2_words):\n",
    "        min_words=txt1_words\n",
    "        comp_words=txt2_words\n",
    "    else:\n",
    "        min_words=txt2_words        \n",
    "        comp_words=txt1_words\n",
    "    count=0\n",
    "    for w in min_words:\n",
    "        if w in comp_words:\n",
    "            count=count+1\n",
    "\n",
    "    return count/float(min_len)"
   ]
  },
  {
   "cell_type": "code",
   "execution_count": 29,
   "metadata": {
    "collapsed": false
   },
   "outputs": [
    {
     "data": {
      "text/plain": [
       "1.0"
      ]
     },
     "execution_count": 29,
     "metadata": {},
     "output_type": "execute_result"
    }
   ],
   "source": [
    "compare_text('hello','hello world')"
   ]
  },
  {
   "cell_type": "code",
   "execution_count": 30,
   "metadata": {
    "collapsed": false
   },
   "outputs": [],
   "source": [
    "def calc_sim_aa(group_df):\n",
    "    group_df.reset_index(inplace=True,drop=True)\n",
    "    curr_sim=[]\n",
    "    for i in range(len(group_df)):\n",
    "        for j in range(len(group_df)):\n",
    "            if i != j:\n",
    "\n",
    "                item_1=group_df[i]\n",
    "                item_2=group_df[j] \n",
    "                sim_prop=compare_text(item_1,item_2)\n",
    "                curr_sim.append(sim_prop)\n",
    "\n",
    "                \n",
    "    return np.mean(curr_sim)   \n",
    "\n",
    "aa_sim=all_schema.loc[:,['proc_answer','exam','q_num']].groupby(['exam','q_num']).aggregate(calc_sim_aa).reset_index()\n",
    "aa_sim.columns=['exam','q_num','aa_sim']\n",
    "all_schema.loc[:,'aa_sim']=pd.merge(all_schema,aa_sim,on=['exam','q_num'])"
   ]
  },
  {
   "cell_type": "code",
   "execution_count": 31,
   "metadata": {
    "collapsed": false
   },
   "outputs": [
    {
     "data": {
      "text/plain": [
       "<matplotlib.axes._subplots.AxesSubplot at 0x119a4a310>"
      ]
     },
     "execution_count": 31,
     "metadata": {},
     "output_type": "execute_result"
    },
    {
     "data": {
      "image/png": "[encoded data removed]",
      "text/plain": [
       "<matplotlib.figure.Figure at 0x11912e810>"
      ]
     },
     "metadata": {},
     "output_type": "display_data"
    }
   ],
   "source": [
    "all_schema.loc[:,'aa_sim'].hist()    "
   ]
  },
  {
   "cell_type": "markdown",
   "metadata": {},
   "source": [
    "<a id='s_f'></a>\n",
    "## f) Question-Answer similarity"
   ]
  },
  {
   "cell_type": "markdown",
   "metadata": {},
   "source": [
    "Likewise, questions that contained information about their answers could have contained clues for students "
   ]
  },
  {
   "cell_type": "code",
   "execution_count": 32,
   "metadata": {
    "collapsed": false
   },
   "outputs": [],
   "source": [
    "def calc_sim_qa(group_df):\n",
    "    group_df.reset_index(inplace=True,drop=True)\n",
    "    curr_sim=[]\n",
    "    for i in range(len(group_df)):\n",
    "\n",
    "        item_1=group_df.proc_answer[i]\n",
    "        item_2=group_df.proc_question[i] \n",
    "        sim_prop=compare_text(item_1,item_2)\n",
    "        curr_sim.append(sim_prop)\n",
    "                \n",
    "    return np.mean(curr_sim)   \n",
    "\n",
    "for e in np.unique(all_schema.exam):\n",
    "    curr_q=np.unique(all_schema.loc[all_schema.exam==e,'q_num'])\n",
    "    for q in curr_q:\n",
    "        sel_ind=np.logical_and(all_schema.exam==e,all_schema.q_num==q)\n",
    "        curr_qs=all_schema.loc[sel_ind,:]\n",
    "        all_schema.loc[sel_ind,'qa_sim']=calc_sim_qa(curr_qs)"
   ]
  },
  {
   "cell_type": "code",
   "execution_count": 33,
   "metadata": {
    "collapsed": true
   },
   "outputs": [],
   "source": [
    "for e in np.unique(all_schema.exam):\n",
    "    curr_q=np.unique(all_schema.loc[all_schema.exam==e,'q_num'])\n",
    "    for q in curr_q:\n",
    "        sel_ind=np.logical_and(all_schema.exam==e,all_schema.q_num==q)\n",
    "        curr_qs=all_schema.loc[sel_ind,:]\n",
    "        all_schema.loc[sel_ind,'qa_sim']=calc_sim_qa(curr_qs)"
   ]
  },
  {
   "cell_type": "code",
   "execution_count": 34,
   "metadata": {
    "collapsed": false
   },
   "outputs": [
    {
     "data": {
      "text/plain": [
       "<matplotlib.axes._subplots.AxesSubplot at 0x118f36dd0>"
      ]
     },
     "execution_count": 34,
     "metadata": {},
     "output_type": "execute_result"
    },
    {
     "data": {
      "image/png": "[encoded data removed]",
      "text/plain": [
       "<matplotlib.figure.Figure at 0x11954e590>"
      ]
     },
     "metadata": {},
     "output_type": "display_data"
    }
   ],
   "source": [
    "all_schema.loc[:,'qa_sim'].hist()  "
   ]
  },
  {
   "cell_type": "markdown",
   "metadata": {},
   "source": [
    "# Wrapping up: Combine data for lmer in R"
   ]
  },
  {
   "cell_type": "markdown",
   "metadata": {},
   "source": [
    "And after all that, we've assembled a good number of features to predict students' performance on exams"
   ]
  },
  {
   "cell_type": "code",
   "execution_count": 35,
   "metadata": {
    "collapsed": false
   },
   "outputs": [
    {
     "data": {
      "text/html": [
       "<div>\n",
       "<table border=\"1\" class=\"dataframe\">\n",
       "  <thead>\n",
       "    <tr style=\"text-align: right;\">\n",
       "      <th></th>\n",
       "      <th>Last4_ID</th>\n",
       "      <th>subject</th>\n",
       "      <th>instructor</th>\n",
       "      <th>q_num</th>\n",
       "      <th>topic</th>\n",
       "      <th>answer</th>\n",
       "      <th>correct</th>\n",
       "      <th>q_len</th>\n",
       "      <th>ans_len</th>\n",
       "      <th>log_freq</th>\n",
       "      <th>the_above</th>\n",
       "      <th>aa_sim</th>\n",
       "      <th>qa_sim</th>\n",
       "    </tr>\n",
       "  </thead>\n",
       "  <tbody>\n",
       "    <tr>\n",
       "      <th>0</th>\n",
       "      <td>0_0</td>\n",
       "      <td>cognitive psychology</td>\n",
       "      <td>tflew</td>\n",
       "      <td>1</td>\n",
       "      <td>cognitive psychology_2</td>\n",
       "      <td>a</td>\n",
       "      <td>False</td>\n",
       "      <td>29</td>\n",
       "      <td>27.75</td>\n",
       "      <td>1.868999</td>\n",
       "      <td>False</td>\n",
       "      <td>0.125000</td>\n",
       "      <td>0.000000</td>\n",
       "    </tr>\n",
       "    <tr>\n",
       "      <th>1</th>\n",
       "      <td>0_0</td>\n",
       "      <td>cognitive psychology</td>\n",
       "      <td>tflew</td>\n",
       "      <td>2</td>\n",
       "      <td>cognitive psychology_3</td>\n",
       "      <td>a</td>\n",
       "      <td>True</td>\n",
       "      <td>50</td>\n",
       "      <td>61.25</td>\n",
       "      <td>1.506331</td>\n",
       "      <td>False</td>\n",
       "      <td>0.888889</td>\n",
       "      <td>0.750000</td>\n",
       "    </tr>\n",
       "    <tr>\n",
       "      <th>2</th>\n",
       "      <td>0_0</td>\n",
       "      <td>cognitive psychology</td>\n",
       "      <td>tflew</td>\n",
       "      <td>3</td>\n",
       "      <td>cognitive psychology_0</td>\n",
       "      <td>b</td>\n",
       "      <td>True</td>\n",
       "      <td>55</td>\n",
       "      <td>14.00</td>\n",
       "      <td>1.904348</td>\n",
       "      <td>False</td>\n",
       "      <td>0.250000</td>\n",
       "      <td>0.000000</td>\n",
       "    </tr>\n",
       "    <tr>\n",
       "      <th>3</th>\n",
       "      <td>0_0</td>\n",
       "      <td>cognitive psychology</td>\n",
       "      <td>tflew</td>\n",
       "      <td>4</td>\n",
       "      <td>cognitive psychology_2</td>\n",
       "      <td>a</td>\n",
       "      <td>True</td>\n",
       "      <td>46</td>\n",
       "      <td>57.25</td>\n",
       "      <td>2.053145</td>\n",
       "      <td>False</td>\n",
       "      <td>0.000000</td>\n",
       "      <td>0.083333</td>\n",
       "    </tr>\n",
       "    <tr>\n",
       "      <th>4</th>\n",
       "      <td>0_0</td>\n",
       "      <td>cognitive psychology</td>\n",
       "      <td>tflew</td>\n",
       "      <td>5</td>\n",
       "      <td>cognitive psychology_0</td>\n",
       "      <td>a</td>\n",
       "      <td>True</td>\n",
       "      <td>45</td>\n",
       "      <td>26.25</td>\n",
       "      <td>2.010838</td>\n",
       "      <td>True</td>\n",
       "      <td>0.083333</td>\n",
       "      <td>0.112500</td>\n",
       "    </tr>\n",
       "  </tbody>\n",
       "</table>\n",
       "</div>"
      ],
      "text/plain": [
       "  Last4_ID               subject instructor q_num                   topic  \\\n",
       "0      0_0  cognitive psychology      tflew     1  cognitive psychology_2   \n",
       "1      0_0  cognitive psychology      tflew     2  cognitive psychology_3   \n",
       "2      0_0  cognitive psychology      tflew     3  cognitive psychology_0   \n",
       "3      0_0  cognitive psychology      tflew     4  cognitive psychology_2   \n",
       "4      0_0  cognitive psychology      tflew     5  cognitive psychology_0   \n",
       "\n",
       "  answer correct  q_len  ans_len  log_freq the_above    aa_sim    qa_sim  \n",
       "0      a   False     29    27.75  1.868999     False  0.125000  0.000000  \n",
       "1      a    True     50    61.25  1.506331     False  0.888889  0.750000  \n",
       "2      b    True     55    14.00  1.904348     False  0.250000  0.000000  \n",
       "3      a    True     46    57.25  2.053145     False  0.000000  0.083333  \n",
       "4      a    True     45    26.25  2.010838      True  0.083333  0.112500  "
      ]
     },
     "execution_count": 35,
     "metadata": {},
     "output_type": "execute_result"
    }
   ],
   "source": [
    "fields_to_transfer=['q_num','topic','q_len','ans_len','log_freq','the_above', 'aa_sim','qa_sim','subject','instructor']\n",
    "mc_test_data=pd.merge(all_resp_ans,all_schema.loc[:,fields_to_transfer])\n",
    "mc_test_data=mc_test_data.groupby([ 'Last4_ID','subject','instructor','q_num','topic','answer']).mean().reset_index()\n",
    "mc_test_data.head()"
   ]
  },
  {
   "cell_type": "markdown",
   "metadata": {},
   "source": [
    "Finally, let's save our results"
   ]
  },
  {
   "cell_type": "code",
   "execution_count": 37,
   "metadata": {
    "collapsed": true
   },
   "outputs": [],
   "source": [
    "mc_test_data.to_csv('exam_processed.csv')"
   ]
  },
  {
   "cell_type": "markdown",
   "metadata": {
    "collapsed": true
   },
   "source": [
    "And now we can go ahead and use this csv in R to find what factors predict people's performance!\n",
    "\n",
    "We'll want to use **lmer()** to build our model, gradually adding features, and **anova()** to check whether those features explain more of the variance. I looked around for a mixed effects model in Python, and there is some for in the statsmodel package, but it's limited a single random effect."
   ]
  }
 ],
 "metadata": {
  "kernelspec": {
   "display_name": "Python 2",
   "language": "python",
   "name": "python2"
  },
  "language_info": {
   "codemirror_mode": {
    "name": "ipython",
    "version": 2
   },
   "file_extension": ".py",
   "mimetype": "text/x-python",
   "name": "python",
   "nbconvert_exporter": "python",
   "pygments_lexer": "ipython2",
   "version": "2.7.11"
  }
 },
 "nbformat": 4,
 "nbformat_minor": 0
}
